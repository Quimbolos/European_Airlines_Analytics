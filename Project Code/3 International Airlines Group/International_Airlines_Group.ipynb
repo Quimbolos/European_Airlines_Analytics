{
 "cells": [
  {
   "cell_type": "code",
   "execution_count": 1,
   "metadata": {},
   "outputs": [],
   "source": [
    "import pandas as pd\n",
    "import os"
   ]
  },
  {
   "cell_type": "code",
   "execution_count": 2,
   "metadata": {},
   "outputs": [],
   "source": [
    "# Merge both datasets from Iberia and British Airways and then export them\n",
    "cwd = os.getcwd()\n",
    "\n",
    "# Normal df\n",
    "df_iberia = pd.read_csv(f\"{cwd}/Iberia/data/iberia_reviews.csv\", index_col=0)\n",
    "df_ba = pd.read_csv(f\"{cwd}/British_Airways/data/british_airways_reviews.csv\", index_col=0)\n",
    "df = pd.concat([df_iberia, df_ba], ignore_index=True)\n",
    "\n",
    "\n",
    "# Sentiment Analysis\n",
    "df_iberia_sa = pd.read_csv(f\"{cwd}/Iberia/data/iberia_reviews_sentiment_analysis.csv\", index_col=0)\n",
    "df_ba_sa = pd.read_csv(f\"{cwd}/British_Airways/data/british_airways_reviews_sentiment_analysis.csv\", index_col=0)\n",
    "df_sentiment_analysis = pd.concat([df_iberia_sa, df_ba_sa], ignore_index=True)\n",
    "\n",
    "\n",
    "# Sentiment Analysis with lemmatized Reviews\n",
    "df_iberia_sa_l = pd.read_csv(f\"{cwd}/Iberia/data/iberia_reviews_sentiment_analysis_lemmatized.csv\", index_col=0)\n",
    "df_ba_sa_l = pd.read_csv(f\"{cwd}/British_Airways/data/british_airways_reviews_sentiment_analysis_lemmatized.csv\", index_col=0)\n",
    "df_sentiment_analysis_lemmatized = pd.concat([df_iberia_sa_l, df_ba_sa_l], ignore_index=True)\n",
    "\n",
    "# Route Summaries\n",
    "df_iberia_rs = pd.read_csv(f\"{cwd}/Iberia/data/iberia_reviews_routesummary.csv\", index_col=0)\n",
    "df_ba_rs = pd.read_csv(f\"{cwd}/British_Airways/data/british_airways_reviews_routesummary.csv\", index_col=0)\n",
    "routesummary = pd.concat([df_iberia_rs, df_ba_rs], ignore_index=True)"
   ]
  },
  {
   "cell_type": "code",
   "execution_count": 3,
   "metadata": {},
   "outputs": [],
   "source": [
    "cwd = os.getcwd()\n",
    "df.to_csv(f\"{cwd}/data/iag_reviews.csv\")\n",
    "df_sentiment_analysis.to_csv(f\"{cwd}/data/iag_reviews_sentiment_analysis.csv\")\n",
    "df_sentiment_analysis_lemmatized.to_csv(f\"{cwd}/data/iag_reviews_sentiment_analysis_lemmatized.csv\")\n",
    "routesummary.to_csv(f\"{cwd}/data/iag_reviews_routesummary.csv\")"
   ]
  },
  {
   "cell_type": "code",
   "execution_count": null,
   "metadata": {},
   "outputs": [],
   "source": []
  }
 ],
 "metadata": {
  "kernelspec": {
   "display_name": "Python 3.8.13 ('Tensorflow')",
   "language": "python",
   "name": "python3"
  },
  "language_info": {
   "codemirror_mode": {
    "name": "ipython",
    "version": 3
   },
   "file_extension": ".py",
   "mimetype": "text/x-python",
   "name": "python",
   "nbconvert_exporter": "python",
   "pygments_lexer": "ipython3",
   "version": "3.8.13"
  },
  "orig_nbformat": 4,
  "vscode": {
   "interpreter": {
    "hash": "0b64a52f329bd7ac83fd7355bf526de5da9b8503da8fcdfb6f417a855f85dd2a"
   }
  }
 },
 "nbformat": 4,
 "nbformat_minor": 2
}
